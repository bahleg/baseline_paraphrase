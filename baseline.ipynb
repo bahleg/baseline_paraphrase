{
 "cells": [
  {
   "cell_type": "markdown",
   "metadata": {},
   "source": [
    "Проверка результатов на базовых моделях\n",
    "\n",
    "NB: качество может немного отличаться от статейного в силу рандомизации выборки.\n",
    "\n",
    "Настройку гиперпараметров предлагаю не проводить, т.к. это нужно только для контроля, что мы нигде сильно не ошиблись"
   ]
  },
  {
   "cell_type": "code",
   "execution_count": 2,
   "metadata": {
    "collapsed": true
   },
   "outputs": [],
   "source": [
    "import numpy as np"
   ]
  },
  {
   "cell_type": "markdown",
   "metadata": {},
   "source": [
    "NB: пока что повторяем статью, поэтому делим выборку в отношении 70%/15%/15%.\n",
    "\n",
    "При этом вторая подвыборка должна по идее использоваться для валидации, но у нас ее нет :)\n",
    "\n",
    "Просто для читстоты эксперимента."
   ]
  },
  {
   "cell_type": "code",
   "execution_count": 3,
   "metadata": {
    "collapsed": false
   },
   "outputs": [
    {
     "name": "stdout",
     "output_type": "stream",
     "text": [
      "(5831, 3)\n"
     ]
    }
   ],
   "source": [
    "X = np.load('semeval_x_baseline.npy')\n",
    "Y= np.load('semeval_y.npy')\n",
    "part = int(len(Y)*0.7)\n",
    "part2 = int(len(Y)*0.85)\n",
    "X_train, X_test = X[:part], X[part2:]\n",
    "Y_train, Y_test = Y[:part], Y[part2:]\n",
    "\n",
    "print X_train.shape"
   ]
  },
  {
   "cell_type": "code",
   "execution_count": 4,
   "metadata": {
    "collapsed": true
   },
   "outputs": [],
   "source": [
    "from sklearn.neighbors import KNeighborsClassifier\n",
    "from sklearn.linear_model import LogisticRegression\n",
    "from sklearn.tree import DecisionTreeClassifier\n",
    "from sklearn.svm import SVC\n",
    "from sklearn.metrics import f1_score\n"
   ]
  },
  {
   "cell_type": "markdown",
   "metadata": {},
   "source": [
    "В статье говорится, что бралась сбалансированная подвыборка"
   ]
  },
  {
   "cell_type": "code",
   "execution_count": 1,
   "metadata": {
    "collapsed": true
   },
   "outputs": [],
   "source": [
    "from random import sample\n",
    "def my_eval(clf):\n",
    "    min_class = min([len(np.where(Y_test==i)[0]) for i in range(6)])\n",
    "    results = []\n",
    "    for _ in xrange(10):\n",
    "        idx = []\n",
    "        for i in range(6):\n",
    "            class_idx = np.where(Y_test==i)[0].tolist()\n",
    "            idx.extend(sample(class_idx, min_class))\n",
    "        pred = clf.predict(X_test[idx])\n",
    "        results.append(f1_score(Y_test[idx], pred, average='macro'))\n",
    "    print np.mean(results), np.std(results)"
   ]
  },
  {
   "cell_type": "code",
   "execution_count": 7,
   "metadata": {
    "collapsed": false
   },
   "outputs": [
    {
     "name": "stdout",
     "output_type": "stream",
     "text": [
      "KNeighborsClassifier\n",
      "0.486941134046\n",
      "0.284975400541 0.0122789582164\n",
      "\n",
      "LogisticRegression\n",
      "0.213651573454\n",
      "0.186265301951 0.00985560050789\n",
      "\n",
      "DecisionTreeClassifier\n"
     ]
    },
    {
     "name": "stderr",
     "output_type": "stream",
     "text": [
      "/usr/local/lib/python2.7/dist-packages/sklearn/metrics/classification.py:1113: UndefinedMetricWarning: F-score is ill-defined and being set to 0.0 in labels with no predicted samples.\n",
      "  'precision', 'predicted', average, warn_for)\n"
     ]
    },
    {
     "name": "stdout",
     "output_type": "stream",
     "text": [
      "0.996495604869\n",
      "0.291209359938 0.0177637223359\n",
      "\n",
      "SVC\n",
      "0.231394952565\n",
      "0.212720181139 0.00638395119881\n",
      "\n"
     ]
    }
   ],
   "source": [
    "for classifier in [KNeighborsClassifier,LogisticRegression,  DecisionTreeClassifier,SVC ]:\n",
    "    print classifier.__name__\n",
    "    cl_obj = classifier()\n",
    "    cl_obj.fit(X_train, Y_train)\n",
    "    \n",
    "    pred = cl_obj.predict(X_train)\n",
    "    print f1_score(Y_train, pred, average= 'macro')\n",
    "    \n",
    "    my_eval(cl_obj)\n",
    "    \n",
    "    print ''''''"
   ]
  },
  {
   "cell_type": "code",
   "execution_count": null,
   "metadata": {
    "collapsed": true
   },
   "outputs": [],
   "source": []
  },
  {
   "cell_type": "code",
   "execution_count": 6,
   "metadata": {
    "collapsed": false
   },
   "outputs": [],
   "source": []
  }
 ],
 "metadata": {
  "kernelspec": {
   "display_name": "Python 2",
   "language": "python",
   "name": "python2"
  },
  "language_info": {
   "codemirror_mode": {
    "name": "ipython",
    "version": 2
   },
   "file_extension": ".py",
   "mimetype": "text/x-python",
   "name": "python",
   "nbconvert_exporter": "python",
   "pygments_lexer": "ipython2",
   "version": "2.7.6"
  }
 },
 "nbformat": 4,
 "nbformat_minor": 0
}
